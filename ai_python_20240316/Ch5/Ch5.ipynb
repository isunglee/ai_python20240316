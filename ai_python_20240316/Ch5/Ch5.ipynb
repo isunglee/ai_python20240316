{
 "cells": [
  {
   "cell_type": "markdown",
   "id": "546921df-39a9-4628-808b-d5fa92db38a5",
   "metadata": {},
   "source": [
    "## 作業 文字接龍"
   ]
  },
  {
   "cell_type": "code",
   "execution_count": 10,
   "id": "4a0e5f24-0870-421b-b052-fb3e5d99072b",
   "metadata": {},
   "outputs": [
    {
     "name": "stdin",
     "output_type": "stream",
     "text": [
      "請輸入一個字串: python\n"
     ]
    },
    {
     "name": "stdout",
     "output_type": "stream",
     "text": [
      "6\n",
      "上一個自串是:python\n"
     ]
    },
    {
     "name": "stdin",
     "output_type": "stream",
     "text": [
      "請輸入-n-開始的字串 new\n"
     ]
    },
    {
     "name": "stdout",
     "output_type": "stream",
     "text": [
      "上一個自串是:python-new\n"
     ]
    },
    {
     "name": "stdin",
     "output_type": "stream",
     "text": [
      "請輸入-w-開始的字串 woo\n"
     ]
    },
    {
     "name": "stdout",
     "output_type": "stream",
     "text": [
      "上一個自串是:python-new-woo\n"
     ]
    },
    {
     "name": "stdin",
     "output_type": "stream",
     "text": [
      "請輸入-o-開始的字串 open\n"
     ]
    },
    {
     "name": "stdout",
     "output_type": "stream",
     "text": [
      "上一個自串是:python-new-woo-open\n"
     ]
    },
    {
     "name": "stdin",
     "output_type": "stream",
     "text": [
      "請輸入-n-開始的字串 aaa\n"
     ]
    },
    {
     "name": "stdout",
     "output_type": "stream",
     "text": [
      "上一個自串是:python-new-woo-open\n"
     ]
    },
    {
     "name": "stdin",
     "output_type": "stream",
     "text": [
      "請輸入-n-開始的字串 bbb\n"
     ]
    },
    {
     "name": "stdout",
     "output_type": "stream",
     "text": [
      "上一個自串是:python-new-woo-open\n"
     ]
    },
    {
     "name": "stdin",
     "output_type": "stream",
     "text": [
      "請輸入-n-開始的字串 ccc\n"
     ]
    },
    {
     "name": "stdout",
     "output_type": "stream",
     "text": [
      "上一個自串是:python-new-woo-open\n"
     ]
    },
    {
     "name": "stdin",
     "output_type": "stream",
     "text": [
      "請輸入-n-開始的字串 ddd\n"
     ]
    },
    {
     "name": "stdout",
     "output_type": "stream",
     "text": [
      "上一個自串是:python-new-woo-open\n"
     ]
    },
    {
     "name": "stdin",
     "output_type": "stream",
     "text": [
      "請輸入-n-開始的字串 ggg\n"
     ]
    }
   ],
   "source": [
    "txt = input(\"請輸入一個字串:\")\n",
    "strList = []\n",
    "strList.append(txt)\n",
    "msg = txt\n",
    "count = 0\n",
    "print(len(txt))\n",
    "while count < 5:\n",
    "    print(f\"上一個自串是:{msg}\")    \n",
    "    tmpTxt = input(f\"請輸入-{txt[-1]}-開始的字串\")\n",
    "    if tmpTxt[0] == txt[-1]:\n",
    "        txt = tmpTxt\n",
    "        strList.append(tmpTxt)\n",
    "        msg = \"-\".join(strList)\n",
    "    else:\n",
    "        count += 1"
   ]
  },
  {
   "cell_type": "markdown",
   "id": "6eefaf6b-e7df-4913-aa22-90db19764273",
   "metadata": {},
   "source": [
    "## List生成器"
   ]
  },
  {
   "cell_type": "code",
   "execution_count": 9,
   "id": "c8db2f10-2c08-47d2-8aea-b411d5bbc744",
   "metadata": {},
   "outputs": [
    {
     "name": "stdout",
     "output_type": "stream",
     "text": [
      "[1, 2, 3, 4, 5, 6, 7, 8, 9, 10, 11, 12, 13, 14, 15, 16, 17, 18, 19, 20, 21, 22, 23, 24, 25, 26, 27, 28, 29, 30, 31, 32, 33, 34, 35, 36, 37, 38, 39, 40, 41, 42, 43, 44, 45, 46, 47, 48, 49, 50]\n"
     ]
    }
   ],
   "source": [
    "list1 = [ i for i in range(1,51) ]\n",
    "print(list1)"
   ]
  },
  {
   "cell_type": "code",
   "execution_count": 17,
   "id": "705d0b8a-92fc-498a-8c04-5ca848d80346",
   "metadata": {},
   "outputs": [
    {
     "name": "stdout",
     "output_type": "stream",
     "text": [
      "[2, 4, 6, 8, 10, 12, 14, 16, 18, 20]\n"
     ]
    }
   ],
   "source": [
    "## 幫我生成一個都是偶數的List 數字範圍是1~20\n",
    "list2 = []\n",
    "for i in range(1,21):\n",
    "    if i % 2 == 0:\n",
    "        list2.append(i)\n",
    "print(list2)        "
   ]
  },
  {
   "cell_type": "code",
   "execution_count": 21,
   "id": "e0aa7496-956a-48d8-892c-d9bcfbec2ada",
   "metadata": {},
   "outputs": [
    {
     "name": "stdout",
     "output_type": "stream",
     "text": [
      "[2, 4, 6, 8, 10, 12, 14, 16, 18, 20]\n"
     ]
    }
   ],
   "source": [
    "list3 = [ i for i in range(1,21) if i % 2 == 0 ]\n",
    "print(list3)"
   ]
  },
  {
   "cell_type": "markdown",
   "id": "8fc941ef-30f5-4eec-93fa-3b4786596934",
   "metadata": {},
   "source": [
    "## isinstance\n",
    "\n",
    "isinstance(x,int) 代表判斷x是否為int型態\n",
    "\n",
    "list若要進行排序得先挑選出相同型態資料。\n",
    "\n",
    "請使用isinstance(資料,資料型態)方式於list中撈出特定資料。\n",
    "\n",
    "list2a=[x for x in list2 if isinstance(x,int)]\n",
    "\n",
    "這樣的寫法的目的\n",
    "\n",
    "避免程式流程受到外面的干擾\n",
    "\n",
    "流程單純化，list的資料變化就在list區域內進行\n",
    "\n",
    "促進語法的可讀性提高!"
   ]
  },
  {
   "cell_type": "code",
   "execution_count": 28,
   "id": "98e1ddce-ae85-4268-baad-95878482dce1",
   "metadata": {},
   "outputs": [
    {
     "name": "stdout",
     "output_type": "stream",
     "text": [
      "['x', 1, 'y', 2, 'z', 3, 5.3, [8, 9]]\n",
      "str: x\n",
      "str: y\n",
      "str: z\n",
      "6\n"
     ]
    }
   ],
   "source": [
    "list4 = ['x',1,'y',2,\"z\",3,5.3,[8,9]]\n",
    "print(list4)\n",
    "sum = 0\n",
    "for v in list4:\n",
    "    if isinstance(v,int):  \n",
    "       sum += v\n",
    "    elif isinstance(v,str):\n",
    "        print(\"str:\",v)\n",
    "print(sum)"
   ]
  },
  {
   "cell_type": "code",
   "execution_count": 66,
   "id": "5445dd58-710c-403a-a68d-1082e1d98872",
   "metadata": {},
   "outputs": [
    {
     "name": "stdout",
     "output_type": "stream",
     "text": [
      "['ken', 1, 'joy', 2, 'lindy', 3]\n",
      "[1, 2, 3]\n",
      "['ken', 'joy', 'lindy']\n",
      "ken 1\n",
      "joy 2\n",
      "lindy 3\n"
     ]
    }
   ],
   "source": [
    "list5 = ['ken',1,'joy',2,\"lindy\",3]\n",
    "list6 = [v for v in list5]\n",
    "print(list6)\n",
    "listNo = [v for v in list5 if isinstance(v,int)]\n",
    "print(listNo)\n",
    "listName = [n for n in list5 if isinstance(n,str)] \n",
    "print(listName)\n",
    "\n",
    "for name,no in zip(listName,listNo):\n",
    "    print(name,no)"
   ]
  },
  {
   "cell_type": "markdown",
   "id": "fcedebcf-f2b7-422f-b130-68dba846054a",
   "metadata": {},
   "source": [
    "## Zip"
   ]
  },
  {
   "cell_type": "code",
   "execution_count": 50,
   "id": "ce423d8c-a9c4-4b95-a955-7836dabe049e",
   "metadata": {},
   "outputs": [
    {
     "name": "stdout",
     "output_type": "stream",
     "text": [
      "Ken\n",
      "98\n",
      "Vivin\n",
      "77\n",
      "Lucy\n",
      "65\n"
     ]
    }
   ],
   "source": [
    "nameList = [\"Ken\",\"Vivin\",\"Lucy\"]\n",
    "scoreList = [98,77,65]\n",
    "\n",
    "for i in range(0,len(nameList)):\n",
    "    name = nameList[i]\n",
    "    score = scoreList[i]\n",
    "    print(name)#name\n",
    "    print(score)#score\n"
   ]
  },
  {
   "cell_type": "code",
   "execution_count": 65,
   "id": "93ca002a-26be-48f7-8dfc-028d12819424",
   "metadata": {},
   "outputs": [
    {
     "name": "stdout",
     "output_type": "stream",
     "text": [
      "Ken 98\n",
      "Vivin 77\n",
      "Lucy 65\n"
     ]
    }
   ],
   "source": [
    "nameList = [\"Ken\",\"Vivin\",\"Lucy\"]\n",
    "scoreList = [98,77,65]\n",
    "zipObj =  zip(nameList,scoreList)\n",
    "#print(list(zipObj))\n",
    "for name,score in zipObj:\n",
    "    print(name,score)"
   ]
  },
  {
   "cell_type": "code",
   "execution_count": 61,
   "id": "8c5868e1-1f45-4c42-b900-d86fb49af275",
   "metadata": {},
   "outputs": [
    {
     "name": "stdout",
     "output_type": "stream",
     "text": [
      "20 10\n",
      "Ken\n",
      "98\n"
     ]
    }
   ],
   "source": [
    "v1 = 10\n",
    "v2 = 20\n",
    "v1,v2 = (v2,v1)\n",
    "print(v1,v2)\n",
    "name,score = ('Ken', 98)\n",
    "print(name)\n",
    "print(score)"
   ]
  },
  {
   "cell_type": "code",
   "execution_count": 84,
   "id": "534b2830-4fce-4871-b495-709898e118cd",
   "metadata": {},
   "outputs": [
    {
     "name": "stdout",
     "output_type": "stream",
     "text": [
      "[['A', 'B', 'C'], ['X', 'Y', 'Z']]\n",
      "B\n",
      "Z\n",
      "A B C \n",
      "X Y Z \n"
     ]
    }
   ],
   "source": [
    "list1 = [\"A\",\"B\",\"C\"]\n",
    "list2 = [\"X\",\"Y\",\"Z\"]\n",
    "list3=[]\n",
    "list3.append(list1)\n",
    "list3.append(list2)\n",
    "print(list3)#2x3的矩陣\n",
    "print(list3[0][1])\n",
    "print(list3[1][2])\n",
    "\n",
    "for ineerList in list3:\n",
    "    for v in ineerList:\n",
    "        print(v,end=\" \")\n",
    "    print()    "
   ]
  },
  {
   "cell_type": "markdown",
   "id": "9d65177e-4ef9-4f86-bdeb-e82020698fe1",
   "metadata": {},
   "source": [
    "## 展開"
   ]
  },
  {
   "cell_type": "code",
   "execution_count": 103,
   "id": "1eb2805f-8cfc-47ca-978e-a2b063d4f59e",
   "metadata": {},
   "outputs": [
    {
     "name": "stdout",
     "output_type": "stream",
     "text": [
      "3\n",
      "['Joy', 'Iris', ['Ken', 'Vivin', 'Lucy']]\n",
      "5\n",
      "['Joy', 'Iris', 'Ken', 'Vivin', 'Lucy']\n"
     ]
    }
   ],
   "source": [
    "names = [\"Ken\",\"Vivin\",\"Lucy\"]\n",
    "myList = [\"Joy\",\"Iris\"]\n",
    "myList.append(names)\n",
    "print(len(myList))\n",
    "print(myList)\n",
    "myList2 = [\"Joy\",\"Iris\"]\n",
    "myList2.extend(names)\n",
    "print(len(myList2))\n",
    "print(myList2)"
   ]
  },
  {
   "cell_type": "markdown",
   "id": "fd199743-ad33-41e2-ba72-d101ed0eb16c",
   "metadata": {},
   "source": [
    "## 輸出"
   ]
  },
  {
   "cell_type": "code",
   "execution_count": 99,
   "id": "3e2c406a-0267-469f-b9d8-cce4bd5781d7",
   "metadata": {},
   "outputs": [
    {
     "name": "stdout",
     "output_type": "stream",
     "text": [
      "Ken:10:178.564\n",
      "Ken:10:178.56\n",
      "Ken:10:178.56\n"
     ]
    }
   ],
   "source": [
    "age = 10\n",
    "name = \"Ken\"\n",
    "height = 178.564\n",
    "msg = name+\":\"+str(age)+\":\"+str(height)\n",
    "print(msg)\n",
    "#%s 字串  %d整數decimal  %f表示浮點數\n",
    "msg2 = \"%s:%d:%.2f\"%(name,age,height)\n",
    "print(msg2)\n",
    "msg3 = f\"{name}:{age}:{height:.2f}\"\n",
    "print(msg3)"
   ]
  },
  {
   "cell_type": "markdown",
   "id": "d70d3e0b-b4f7-4ccd-84bf-0c39889031b1",
   "metadata": {},
   "source": [
    "## Dictionary\n",
    "\n",
    "資料結構是由 key:value 所組成。\n",
    "\n",
    "key 不能夠重複，否則會被後面的結果蓋過去。\n",
    "\n",
    "可輸入 key 找尋您要找出來的值。\n",
    "\n",
    "如果輸入的 key 不存在，那就會出現錯誤訊息。\n",
    "\n",
    "key 只能是 字串 數字 tuple"
   ]
  },
  {
   "cell_type": "code",
   "execution_count": 107,
   "id": "694947fe-f342-4653-bed8-19a10d264b78",
   "metadata": {},
   "outputs": [
    {
     "name": "stdout",
     "output_type": "stream",
     "text": [
      "{'a': 100, 'b': 200, 'c': 300}\n",
      "200\n",
      "100\n"
     ]
    },
    {
     "ename": "KeyError",
     "evalue": "'x'",
     "output_type": "error",
     "traceback": [
      "\u001b[1;31m---------------------------------------------------------------------------\u001b[0m",
      "\u001b[1;31mKeyError\u001b[0m                                  Traceback (most recent call last)",
      "Cell \u001b[1;32mIn[107], line 5\u001b[0m\n\u001b[0;32m      3\u001b[0m \u001b[38;5;28mprint\u001b[39m(d1[\u001b[38;5;124m\"\u001b[39m\u001b[38;5;124mb\u001b[39m\u001b[38;5;124m\"\u001b[39m])\n\u001b[0;32m      4\u001b[0m \u001b[38;5;28mprint\u001b[39m(d1[\u001b[38;5;124m\"\u001b[39m\u001b[38;5;124ma\u001b[39m\u001b[38;5;124m\"\u001b[39m])\n\u001b[1;32m----> 5\u001b[0m \u001b[38;5;28mprint\u001b[39m(d1[\u001b[38;5;124m\"\u001b[39m\u001b[38;5;124mx\u001b[39m\u001b[38;5;124m\"\u001b[39m])\n",
      "\u001b[1;31mKeyError\u001b[0m: 'x'"
     ]
    }
   ],
   "source": [
    "d1 = {\"a\":100,\"b\":200,\"c\":300}\n",
    "print(d1)\n",
    "print(d1[\"b\"])\n",
    "print(d1[\"a\"])\n",
    "print(d1[\"x\"])"
   ]
  },
  {
   "cell_type": "markdown",
   "id": "32c0dbe4-7f4e-4041-9006-444b26d0a756",
   "metadata": {},
   "source": [
    "## key 與 value\n",
    "+ key 不能於程式內改變：\n",
    "  + 可以用數字、字串或者 tuple。\n",
    "  + 不可以使用 list。\n",
    "+ 如何找出所有的 key 與 value？\n",
    "  + 您可以透過 dict1.keys( ) 這個方法找出所有的 key。\n",
    "  + 您可以透過 dict1.values( ) 這個方法找出所有的 value。"
   ]
  },
  {
   "cell_type": "code",
   "execution_count": 115,
   "id": "808789d9-23e0-48e0-a5e9-6cc20048d9a2",
   "metadata": {},
   "outputs": [
    {
     "name": "stdout",
     "output_type": "stream",
     "text": [
      "a-100\n",
      "b-200\n",
      "c-300\n",
      "\n",
      "a-100\n",
      "b-200\n",
      "c-300\n",
      "\n",
      "v:100\n",
      "v:200\n",
      "v:300\n"
     ]
    }
   ],
   "source": [
    "d2 = {\"a\":100,\"b\":200,\"c\":300}\n",
    "for k in d2:\n",
    "    print(f\"{k}-{d2[k]}\")\n",
    "print()\n",
    "for k2 in d2.keys():\n",
    "    print(f\"{k2}-{d2[k2]}\")\n",
    "print()\n",
    "for v in d2.values():\n",
    "    print(f\"v:{v}\")"
   ]
  },
  {
   "cell_type": "code",
   "execution_count": 123,
   "id": "5dec1576-f780-4c86-8afb-a562c94b5fad",
   "metadata": {},
   "outputs": [
    {
     "name": "stdout",
     "output_type": "stream",
     "text": [
      "200\n"
     ]
    }
   ],
   "source": [
    "d3 = {\"a\":100,\"b\":200,\"c\":300}\n",
    "k = \"b\"\n",
    "findKey = False #預設沒找到Key\n",
    "for key in d3:\n",
    "    if key == k:\n",
    "        findKey = True\n",
    "        break\n",
    "#找不到key顯示無此Key\n",
    "if findKey:\n",
    "    print(d3[k])\n",
    "else:\n",
    "    print(\"顯示無此Key\")"
   ]
  },
  {
   "cell_type": "code",
   "execution_count": 134,
   "id": "7dbca786-0039-4ac9-8118-4bc26813903f",
   "metadata": {},
   "outputs": [
    {
     "name": "stdout",
     "output_type": "stream",
     "text": [
      "200\n"
     ]
    }
   ],
   "source": [
    "d3 = {\"a\":100,\"b\":200,\"c\":300}\n",
    "k = \"b\"\n",
    "findKey = False #預設沒找到Key\n",
    "for key in d3:\n",
    "    if key == k:\n",
    "        findKey = True\n",
    "        break\n",
    "#找不到key顯示無此Key\n",
    "if findKey:\n",
    "    print(d3[k])\n",
    "else:\n",
    "    print(\"顯示無此Key\")"
   ]
  },
  {
   "cell_type": "code",
   "execution_count": 133,
   "id": "5cb177c9-3a5d-43e1-97d6-e290f8251a0b",
   "metadata": {},
   "outputs": [
    {
     "name": "stdout",
     "output_type": "stream",
     "text": [
      "200\n"
     ]
    }
   ],
   "source": [
    "d3 = {\"a\":100,\"b\":200,\"c\":300}\n",
    "k = \"b\"\n",
    "for key in d3:\n",
    "    if key == k:\n",
    "        print(d3[k])\n",
    "        break\n",
    "else:#不是因為break離開迴圈就會執行\n",
    "   print(\"顯示無此Key\") "
   ]
  },
  {
   "cell_type": "code",
   "execution_count": 140,
   "id": "1b58e1fd-4acf-44e8-9260-8324a9583be9",
   "metadata": {},
   "outputs": [
    {
     "name": "stdout",
     "output_type": "stream",
     "text": [
      "顯示無此Key\n"
     ]
    }
   ],
   "source": [
    "d3 = {\"a\":100,\"b\":200,\"c\":300}\n",
    "k = \"x\"\n",
    "if k in d3:\n",
    "    print(d3[k])\n",
    "else:\n",
    "  print(\"顯示無此Key\")   "
   ]
  },
  {
   "cell_type": "code",
   "execution_count": 147,
   "id": "4496a8d3-9f1a-4537-8891-b96200bb4efb",
   "metadata": {},
   "outputs": [
    {
     "name": "stdout",
     "output_type": "stream",
     "text": [
      "200\n"
     ]
    }
   ],
   "source": [
    "k = \"b\"\n",
    "v = d3[k] if k in d3 else \"顯示無此Key\"\n",
    "print(v)"
   ]
  },
  {
   "cell_type": "code",
   "execution_count": 146,
   "id": "8328ff2b-8d7e-44b1-bf41-9ec6befe240d",
   "metadata": {},
   "outputs": [
    {
     "name": "stdout",
     "output_type": "stream",
     "text": [
      "25不存在\n"
     ]
    }
   ],
   "source": [
    "myList = [10,20,50,79]\n",
    "v = 25\n",
    "if v in myList:\n",
    "    print(f\"{v}存在\")\n",
    "else:\n",
    "    print(f\"{v}不存在\")"
   ]
  },
  {
   "cell_type": "markdown",
   "id": "47139b6c-f0d6-4d76-b661-42e946b389dc",
   "metadata": {},
   "source": [
    "## 新增與修改\n",
    "+ 新增一筆資料\n",
    "  + 請將 key 與 value 儲存至一個變數內。\n",
    "  + 透過 dict.update(新增的資料) 這個方法的方式就可以新增。\n",
    "+ 元素可否變更：\n",
    "  + 以 = 指派方式指派給 key 就可以變更資料"
   ]
  },
  {
   "cell_type": "code",
   "execution_count": 152,
   "id": "cf7e12eb-e108-4209-8fce-fd3713d4cae5",
   "metadata": {},
   "outputs": [
    {
     "name": "stdout",
     "output_type": "stream",
     "text": [
      "{'ken': 100, 'vivin': 95, 'lucy': 72}\n",
      "{'ken': 100, 'vivin': 86, 'lucy': 72}\n",
      "{'ken': 100, 'vivin': 86, 'lucy': 72, 'tom': 77}\n",
      "{'ken': 100, 'vivin': 86, 'lucy': 92, 'tom': 77}\n",
      "{'ken': 77, 'vivin': 86, 'lucy': 92, 'tom': 77, 'iris': 88, 'joy': 65}\n"
     ]
    }
   ],
   "source": [
    "dict2 = {'ken':100,'vivin':95,'lucy':72}\n",
    "print(dict2)\n",
    "dict2['vivin'] = 86#key存在就修改\n",
    "print(dict2)\n",
    "dict2['tom'] = 77#key不存在就新增\n",
    "print(dict2)\n",
    "\n",
    "dict2.update({'lucy':92})\n",
    "print(dict2)\n",
    "dict2.update({'iris':88,'joy':65,'ken':77})\n",
    "print(dict2)"
   ]
  },
  {
   "cell_type": "markdown",
   "id": "cb2826eb-6901-4b0f-b099-ea37116b386d",
   "metadata": {},
   "source": [
    "# 作業\n",
    "## 假設水果清單中有 木瓜 西瓜 蘋果 香蕉\n",
    "## 輸入框輸入水果名稱 查看是否有對應的水果\n",
    "## 不在清單中顯示 xx水果 不在清單中 \n",
    "## 在清單中顯示 xx水果 在清單中 "
   ]
  },
  {
   "cell_type": "markdown",
   "id": "1ec59e31-5b54-4270-ba78-f93c53b539c6",
   "metadata": {},
   "source": [
    "## del \n",
    "\n",
    "del dict[key]    刪除某一個 key 的資料\n",
    "\n",
    "dict.clear( )     清除所有項目\n",
    "\n",
    "del dict           刪除字典\n"
   ]
  },
  {
   "cell_type": "code",
   "execution_count": 159,
   "id": "f7abb3df-9bac-4877-9652-c61eb6acaa2d",
   "metadata": {},
   "outputs": [
    {
     "name": "stdout",
     "output_type": "stream",
     "text": [
      "{'ken': 100, 'vivin': 95, 'lucy': 72}\n",
      "{'ken': 100, 'lucy': 72}\n",
      "{}\n"
     ]
    }
   ],
   "source": [
    "dict2 = {'ken':100,'vivin':95,'lucy':72}\n",
    "print(dict2)\n",
    "del dict2[\"vivin\"]\n",
    "print(dict2)\n",
    "dict2.clear()\n",
    "print(dict2)"
   ]
  },
  {
   "cell_type": "code",
   "execution_count": null,
   "id": "cf556d7d-701a-4ca0-bc89-e49a73d7cefe",
   "metadata": {},
   "outputs": [],
   "source": []
  }
 ],
 "metadata": {
  "kernelspec": {
   "display_name": "Python 3 (ipykernel)",
   "language": "python",
   "name": "python3"
  },
  "language_info": {
   "codemirror_mode": {
    "name": "ipython",
    "version": 3
   },
   "file_extension": ".py",
   "mimetype": "text/x-python",
   "name": "python",
   "nbconvert_exporter": "python",
   "pygments_lexer": "ipython3",
   "version": "3.11.8"
  }
 },
 "nbformat": 4,
 "nbformat_minor": 5
}
